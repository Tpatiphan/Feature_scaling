{
  "nbformat": 4,
  "nbformat_minor": 0,
  "metadata": {
    "colab": {
      "name": "Featuring_scaling.ipynb",
      "provenance": [],
      "collapsed_sections": []
    },
    "kernelspec": {
      "name": "python3",
      "display_name": "Python 3"
    }
  },
  "cells": [
    {
      "cell_type": "code",
      "metadata": {
        "id": "BlbOahwUMiv0"
      },
      "source": [
        "\"\"\" PART 1 \n",
        "    Importing Libraries \"\"\"\n",
        "\n",
        "import numpy as np \n",
        "import matplotlib.pyplot as plt \n",
        "import pandas as pd \n",
        "\n",
        "# Sklearn library \n",
        "from sklearn import preprocessing "
      ],
      "execution_count": 68,
      "outputs": []
    },
    {
      "cell_type": "code",
      "metadata": {
        "id": "VoHw9AumMrq7",
        "outputId": "fd902a55-0b67-4284-c6c3-fc2dd93c5a0f",
        "colab": {
          "base_uri": "https://localhost:8080/",
          "height": 235
        }
      },
      "source": [
        "\"\"\" PART 2 \n",
        "\tImporting Data \"\"\"\n",
        "\n",
        "url ='https://raw.githubusercontent.com/Tpatiphan/Feature_scaling/main/Data_for_Missing_Values.csv'\n",
        "# df = pd.read_csv(url, index_col=[0], parse_dates=[0])[['Load']]\n",
        "data_set = pd.read_csv(url, index_col=[0], parse_dates=[0])\n",
        "data_set.head()"
      ],
      "execution_count": 69,
      "outputs": [
        {
          "output_type": "execute_result",
          "data": {
            "text/html": [
              "<div>\n",
              "<style scoped>\n",
              "    .dataframe tbody tr th:only-of-type {\n",
              "        vertical-align: middle;\n",
              "    }\n",
              "\n",
              "    .dataframe tbody tr th {\n",
              "        vertical-align: top;\n",
              "    }\n",
              "\n",
              "    .dataframe thead th {\n",
              "        text-align: right;\n",
              "    }\n",
              "</style>\n",
              "<table border=\"1\" class=\"dataframe\">\n",
              "  <thead>\n",
              "    <tr style=\"text-align: right;\">\n",
              "      <th></th>\n",
              "      <th>Age</th>\n",
              "      <th>Salary</th>\n",
              "      <th>Purchased</th>\n",
              "    </tr>\n",
              "    <tr>\n",
              "      <th>Country</th>\n",
              "      <th></th>\n",
              "      <th></th>\n",
              "      <th></th>\n",
              "    </tr>\n",
              "  </thead>\n",
              "  <tbody>\n",
              "    <tr>\n",
              "      <th>France</th>\n",
              "      <td>44</td>\n",
              "      <td>72000</td>\n",
              "      <td>No</td>\n",
              "    </tr>\n",
              "    <tr>\n",
              "      <th>Spain</th>\n",
              "      <td>27</td>\n",
              "      <td>48000</td>\n",
              "      <td>Yes</td>\n",
              "    </tr>\n",
              "    <tr>\n",
              "      <th>Germany</th>\n",
              "      <td>30</td>\n",
              "      <td>54000</td>\n",
              "      <td>No</td>\n",
              "    </tr>\n",
              "    <tr>\n",
              "      <th>Spain</th>\n",
              "      <td>38</td>\n",
              "      <td>61000</td>\n",
              "      <td>No</td>\n",
              "    </tr>\n",
              "    <tr>\n",
              "      <th>Germany</th>\n",
              "      <td>40</td>\n",
              "      <td>1000</td>\n",
              "      <td>Yes</td>\n",
              "    </tr>\n",
              "  </tbody>\n",
              "</table>\n",
              "</div>"
            ],
            "text/plain": [
              "         Age  Salary Purchased\n",
              "Country                       \n",
              "France    44   72000        No\n",
              "Spain     27   48000       Yes\n",
              "Germany   30   54000        No\n",
              "Spain     38   61000        No\n",
              "Germany   40    1000       Yes"
            ]
          },
          "metadata": {
            "tags": []
          },
          "execution_count": 69
        }
      ]
    },
    {
      "cell_type": "code",
      "metadata": {
        "id": "n9PLvYp8UwaJ",
        "outputId": "12b085b2-1262-4dff-a90c-6f3babbf8f37",
        "colab": {
          "base_uri": "https://localhost:8080/",
          "height": 221
        }
      },
      "source": [
        "data_set['Purchased']"
      ],
      "execution_count": 70,
      "outputs": [
        {
          "output_type": "execute_result",
          "data": {
            "text/plain": [
              "Country\n",
              "France      No\n",
              "Spain      Yes\n",
              "Germany     No\n",
              "Spain       No\n",
              "Germany    Yes\n",
              "France     Yes\n",
              "Spain       No\n",
              "France     Yes\n",
              "Germany     No\n",
              "France     Yes\n",
              "Name: Purchased, dtype: object"
            ]
          },
          "metadata": {
            "tags": []
          },
          "execution_count": 70
        }
      ]
    },
    {
      "cell_type": "code",
      "metadata": {
        "id": "M7qSaRRTUU1A",
        "outputId": "43c3931b-c6f2-4f2d-d83b-924571fb6c3a",
        "colab": {
          "base_uri": "https://localhost:8080/",
          "height": 390
        }
      },
      "source": [
        "data_set['Purchased'] = data_set['Purchased'].replace(to_replace = ['Yes','No'],value = ['1','0'])\n",
        "data_set"
      ],
      "execution_count": 71,
      "outputs": [
        {
          "output_type": "execute_result",
          "data": {
            "text/html": [
              "<div>\n",
              "<style scoped>\n",
              "    .dataframe tbody tr th:only-of-type {\n",
              "        vertical-align: middle;\n",
              "    }\n",
              "\n",
              "    .dataframe tbody tr th {\n",
              "        vertical-align: top;\n",
              "    }\n",
              "\n",
              "    .dataframe thead th {\n",
              "        text-align: right;\n",
              "    }\n",
              "</style>\n",
              "<table border=\"1\" class=\"dataframe\">\n",
              "  <thead>\n",
              "    <tr style=\"text-align: right;\">\n",
              "      <th></th>\n",
              "      <th>Age</th>\n",
              "      <th>Salary</th>\n",
              "      <th>Purchased</th>\n",
              "    </tr>\n",
              "    <tr>\n",
              "      <th>Country</th>\n",
              "      <th></th>\n",
              "      <th></th>\n",
              "      <th></th>\n",
              "    </tr>\n",
              "  </thead>\n",
              "  <tbody>\n",
              "    <tr>\n",
              "      <th>France</th>\n",
              "      <td>44</td>\n",
              "      <td>72000</td>\n",
              "      <td>0</td>\n",
              "    </tr>\n",
              "    <tr>\n",
              "      <th>Spain</th>\n",
              "      <td>27</td>\n",
              "      <td>48000</td>\n",
              "      <td>1</td>\n",
              "    </tr>\n",
              "    <tr>\n",
              "      <th>Germany</th>\n",
              "      <td>30</td>\n",
              "      <td>54000</td>\n",
              "      <td>0</td>\n",
              "    </tr>\n",
              "    <tr>\n",
              "      <th>Spain</th>\n",
              "      <td>38</td>\n",
              "      <td>61000</td>\n",
              "      <td>0</td>\n",
              "    </tr>\n",
              "    <tr>\n",
              "      <th>Germany</th>\n",
              "      <td>40</td>\n",
              "      <td>1000</td>\n",
              "      <td>1</td>\n",
              "    </tr>\n",
              "    <tr>\n",
              "      <th>France</th>\n",
              "      <td>35</td>\n",
              "      <td>58000</td>\n",
              "      <td>1</td>\n",
              "    </tr>\n",
              "    <tr>\n",
              "      <th>Spain</th>\n",
              "      <td>78</td>\n",
              "      <td>52000</td>\n",
              "      <td>0</td>\n",
              "    </tr>\n",
              "    <tr>\n",
              "      <th>France</th>\n",
              "      <td>48</td>\n",
              "      <td>79000</td>\n",
              "      <td>1</td>\n",
              "    </tr>\n",
              "    <tr>\n",
              "      <th>Germany</th>\n",
              "      <td>50</td>\n",
              "      <td>83000</td>\n",
              "      <td>0</td>\n",
              "    </tr>\n",
              "    <tr>\n",
              "      <th>France</th>\n",
              "      <td>37</td>\n",
              "      <td>67000</td>\n",
              "      <td>1</td>\n",
              "    </tr>\n",
              "  </tbody>\n",
              "</table>\n",
              "</div>"
            ],
            "text/plain": [
              "         Age  Salary Purchased\n",
              "Country                       \n",
              "France    44   72000         0\n",
              "Spain     27   48000         1\n",
              "Germany   30   54000         0\n",
              "Spain     38   61000         0\n",
              "Germany   40    1000         1\n",
              "France    35   58000         1\n",
              "Spain     78   52000         0\n",
              "France    48   79000         1\n",
              "Germany   50   83000         0\n",
              "France    37   67000         1"
            ]
          },
          "metadata": {
            "tags": []
          },
          "execution_count": 71
        }
      ]
    },
    {
      "cell_type": "code",
      "metadata": {
        "id": "JhUIHCpsMxna",
        "outputId": "8a81af3b-55d7-4c46-8be4-841ddbd5f85b",
        "colab": {
          "base_uri": "https://localhost:8080/",
          "height": 221
        }
      },
      "source": [
        "# here Features - Age and Salary columns \n",
        "# are taken using slicing \n",
        "# to handle values with varying magnitude \n",
        "x = data_set.iloc[:, 1:3].values \n",
        "print (\"\\nOriginal data values : \\n\", x) "
      ],
      "execution_count": 72,
      "outputs": [
        {
          "output_type": "stream",
          "text": [
            "\n",
            "Original data values : \n",
            " [[72000 '0']\n",
            " [48000 '1']\n",
            " [54000 '0']\n",
            " [61000 '0']\n",
            " [1000 '1']\n",
            " [58000 '1']\n",
            " [52000 '0']\n",
            " [79000 '1']\n",
            " [83000 '0']\n",
            " [67000 '1']]\n"
          ],
          "name": "stdout"
        }
      ]
    },
    {
      "cell_type": "code",
      "metadata": {
        "id": "ggXAYTVLM15h",
        "outputId": "bc007b90-d76a-414a-8681-85d71826c5a1",
        "colab": {
          "base_uri": "https://localhost:8080/",
          "height": 469
        }
      },
      "source": [
        "\"\"\" PART 4 \n",
        "\tHandling the missing values \"\"\"\n",
        "\n",
        "from sklearn import preprocessing \n",
        "\n",
        "\"\"\" MIN MAX SCALER \"\"\"\n",
        "\n",
        "min_max_scaler = preprocessing.MinMaxScaler(feature_range =(0, 1)) \n",
        "\n",
        "# Scaled feature \n",
        "x_after_min_max_scaler = min_max_scaler.fit_transform(x) \n",
        "\n",
        "plt.figure(figsize=(13,4))\n",
        "plt.plot(x_after_min_max_scaler[:,0])\n",
        "plt.plot(x_after_min_max_scaler[:,1])\n",
        "\n",
        "\n",
        "print (\"\\nAfter min max Scaling : \\n\", x_after_min_max_scaler) "
      ],
      "execution_count": 77,
      "outputs": [
        {
          "output_type": "stream",
          "text": [
            "\n",
            "After min max Scaling : \n",
            " [[0.86585366 0.        ]\n",
            " [0.57317073 1.        ]\n",
            " [0.64634146 0.        ]\n",
            " [0.73170732 0.        ]\n",
            " [0.         1.        ]\n",
            " [0.69512195 1.        ]\n",
            " [0.62195122 0.        ]\n",
            " [0.95121951 1.        ]\n",
            " [1.         0.        ]\n",
            " [0.80487805 1.        ]]\n"
          ],
          "name": "stdout"
        },
        {
          "output_type": "display_data",
          "data": {
            "image/png": "[encoded data removed]",
            "text/plain": [
              "<Figure size 936x288 with 1 Axes>"
            ]
          },
          "metadata": {
            "tags": [],
            "needs_background": "light"
          }
        }
      ]
    },
    {
      "cell_type": "code",
      "metadata": {
        "id": "HJWbebiqLXM8",
        "outputId": "764b56bb-6c49-4c2f-91e9-16270c866884",
        "colab": {
          "base_uri": "https://localhost:8080/",
          "height": 469
        }
      },
      "source": [
        "\"\"\" Standardisation \"\"\"\n",
        "\n",
        "Standardisation = preprocessing.StandardScaler() \n",
        "\n",
        "# Scaled feature \n",
        "x_after_Standardisation = Standardisation.fit_transform(x)\n",
        "\n",
        "plt.figure(figsize=(13,4))\n",
        "plt.plot(x_after_Standardisation[:,0])\n",
        "plt.plot(x_after_Standardisation[:,1])\n",
        "\n",
        "print (\"\\nAfter Standardisation : \\n\", x_after_Standardisation) \n"
      ],
      "execution_count": 78,
      "outputs": [
        {
          "output_type": "stream",
          "text": [
            "\n",
            "After Standardisation : \n",
            " [[ 0.66527061 -1.        ]\n",
            " [-0.43586695  1.        ]\n",
            " [-0.16058256 -1.        ]\n",
            " [ 0.16058256 -1.        ]\n",
            " [-2.59226136  1.        ]\n",
            " [ 0.02294037  1.        ]\n",
            " [-0.25234403 -1.        ]\n",
            " [ 0.98643574  1.        ]\n",
            " [ 1.16995867 -1.        ]\n",
            " [ 0.43586695  1.        ]]\n"
          ],
          "name": "stdout"
        },
        {
          "output_type": "display_data",
          "data": {
            "image/png": "[encoded data removed]",
            "text/plain": [
              "<Figure size 936x288 with 1 Axes>"
            ]
          },
          "metadata": {
            "tags": [],
            "needs_background": "light"
          }
        }
      ]
    },
    {
      "cell_type": "code",
      "metadata": {
        "id": "bL_hWLfxXffP"
      },
      "source": [
        ""
      ],
      "execution_count": null,
      "outputs": []
    }
  ]
}